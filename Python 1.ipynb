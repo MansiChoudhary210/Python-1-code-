{
 "cells": [
  {
   "cell_type": "code",
   "execution_count": 1,
   "id": "aaa3794f-f871-43fb-ae9a-a28c9c45b05a",
   "metadata": {},
   "outputs": [
    {
     "name": "stdin",
     "output_type": "stream",
     "text": [
      "Enter the first side of triangle 1\n",
      "Enter the second side of triangle 2\n",
      "Enter the third side of triangle 3\n"
     ]
    },
    {
     "name": "stdout",
     "output_type": "stream",
     "text": [
      "a= 1.0\n",
      "b= 2.0\n",
      "c= 3.0\n",
      "Area of triangle= 0.0\n"
     ]
    }
   ],
   "source": [
    "#calculate the area of triangle(Herons formula)\n",
    "a = float(input(\"Enter the first side of triangle\"))\n",
    "b = float(input(\"Enter the second side of triangle\"))\n",
    "c = float(input(\"Enter the third side of triangle\"))\n",
    "print(\"a=\",a)\n",
    "print(\"b=\",b)\n",
    "print(\"c=\",c)\n",
    "s = (a+b+c)/2\n",
    "area = 0.5*(s*(s-a)*(s-b)*(s-c))\n",
    "print(\"Area of triangle=\",area)"
   ]
  },
  {
   "cell_type": "code",
   "execution_count": 19,
   "id": "652ebea4-c5c8-4115-8fb2-517bcaeb05b5",
   "metadata": {},
   "outputs": [
    {
     "name": "stdin",
     "output_type": "stream",
     "text": [
      "Enter x1 : 7\n",
      "Enter x2 : 3\n",
      "Enter y1 : 6\n",
      "Enter y2 : 1\n"
     ]
    },
    {
     "name": "stdout",
     "output_type": "stream",
     "text": [
      "distance b/w two point 20.5\n"
     ]
    }
   ],
   "source": [
    "#calculate the distance b/w two points\n",
    "x1=int(input(\"Enter x1 :\"))\n",
    "x2=int(input(\"Enter x2 :\"))\n",
    "y1=int(input(\"Enter y1 :\"))\n",
    "y2=int(input(\"Enter y2 :\"))\n",
    "distance = (((x2-x1)**2+(y2-y1)**2)*0.5)\n",
    "print(\"distance b/w two point\",distance)"
   ]
  },
  {
   "cell_type": "code",
   "execution_count": 15,
   "id": "bf43930e-7cb9-43ff-93ec-7b1d6f655ba5",
   "metadata": {},
   "outputs": [
    {
     "name": "stdin",
     "output_type": "stream",
     "text": [
      "Enter r : 7\n"
     ]
    },
    {
     "name": "stdout",
     "output_type": "stream",
     "text": [
      "Area of circle = 153.86\n"
     ]
    }
   ],
   "source": [
    "#calculate the area of circle\n",
    "r = float(input(\"Enter r :\"))\n",
    "area = 3.14*r*r\n",
    "print(\"Area of circle =\",area)"
   ]
  },
  {
   "cell_type": "code",
   "execution_count": 35,
   "id": "5815d745-4c05-4ba8-9863-4f802fa5c8d3",
   "metadata": {},
   "outputs": [
    {
     "name": "stdin",
     "output_type": "stream",
     "text": [
      "Enter the number : 28\n"
     ]
    },
    {
     "name": "stdout",
     "output_type": "stream",
     "text": [
      "Digit at ones place = 8\n"
     ]
    }
   ],
   "source": [
    "#the digit at one place\n",
    "a = int(input(\"Enter the number :\"))\n",
    "digit_at_ones_place = a%10\n",
    "print(\"Digit at ones place =\",digit_at_ones_place)"
   ]
  },
  {
   "cell_type": "code",
   "execution_count": 39,
   "id": "8c9e24d6-80d3-40fd-823a-80d34b380cab",
   "metadata": {},
   "outputs": [
    {
     "name": "stdin",
     "output_type": "stream",
     "text": [
      "Enter the number : 5\n"
     ]
    },
    {
     "name": "stdout",
     "output_type": "stream",
     "text": [
      "The ASCII value of input character= 53\n"
     ]
    },
    {
     "data": {
      "text/plain": [
       "str"
      ]
     },
     "execution_count": 39,
     "metadata": {},
     "output_type": "execute_result"
    }
   ],
   "source": [
    "#print the ASCII value of the input character\n",
    "a = (input(\"Enter the number :\"))\n",
    "print(\"The ASCII value of input character=\",ord(a))\n",
    "type(a)"
   ]
  }
 ],
 "metadata": {
  "kernelspec": {
   "display_name": "Python 3 (ipykernel)",
   "language": "python",
   "name": "python3"
  },
  "language_info": {
   "codemirror_mode": {
    "name": "ipython",
    "version": 3
   },
   "file_extension": ".py",
   "mimetype": "text/x-python",
   "name": "python",
   "nbconvert_exporter": "python",
   "pygments_lexer": "ipython3",
   "version": "3.12.4"
  }
 },
 "nbformat": 4,
 "nbformat_minor": 5
}
