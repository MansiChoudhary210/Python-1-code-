{
  "nbformat": 4,
  "nbformat_minor": 0,
  "metadata": {
    "colab": {
      "provenance": []
    },
    "kernelspec": {
      "name": "python3",
      "display_name": "Python 3"
    },
    "language_info": {
      "name": "python"
    }
  },
  "cells": [
    {
      "cell_type": "code",
      "execution_count": 4,
      "metadata": {
        "colab": {
          "base_uri": "https://localhost:8080/"
        },
        "id": "FSoKH2xjMJoA",
        "outputId": "66927a81-34aa-4c71-a56e-5cac7dd5f0c8"
      },
      "outputs": [
        {
          "output_type": "stream",
          "name": "stdout",
          "text": [
            "[10, 20, 23, 30, 34, 40, 50, 79, 89, 89, 123, 678]\n",
            "Enter The Target Element You Want To Find in The List: 40\n",
            "40 found at index 5\n"
          ]
        }
      ],
      "source": [
        "#Binary Search\n",
        "import math\n",
        "my_list = [10,20,34,678,123,89,30,40,79,23,89,50] # Changed variable name to my_list\n",
        "my_list.sort()\n",
        "print(my_list)\n",
        "target = int(input(\"Enter The Target Element You Want To Find in The List: \"))\n",
        "left = 0\n",
        "right= len(my_list) - 1\n",
        "found = False\n",
        "while (left<=right):\n",
        "  mid = (left + right)//2\n",
        "  if my_list[mid] == target: # Changed list(mid == target) to list[mid] == target\n",
        "    print(target,\"found at index\",mid)\n",
        "    break\n",
        "  elif my_list[mid] < target: # Changed list(mid == target) to my_list[mid] == target\n",
        "    left = mid + 1\n",
        "  else:\n",
        "    right = mid- 1\n",
        "else:\n",
        "  print(target, \"not found in the given list.\")"
      ]
    }
  ]
}