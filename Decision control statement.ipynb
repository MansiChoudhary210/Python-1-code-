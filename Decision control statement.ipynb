{
 "cells": [
  {
   "cell_type": "code",
   "execution_count": 1,
   "id": "f445f5e5-f0b9-40da-9d51-68cb623b99a4",
   "metadata": {},
   "outputs": [
    {
     "name": "stdin",
     "output_type": "stream",
     "text": [
      "Enter the age: 18\n"
     ]
    },
    {
     "name": "stdout",
     "output_type": "stream",
     "text": [
      "18 is eligible for vote\n"
     ]
    }
   ],
   "source": [
    "#if statement\n",
    "x = int(input(\"Enter the age:\"))\n",
    "if (x>=18):\n",
    "    print(x,\"is eligible for vote\")"
   ]
  },
  {
   "cell_type": "code",
   "execution_count": 7,
   "id": "3082e3e5-d88b-4f29-af8a-fcd052b1a713",
   "metadata": {},
   "outputs": [
    {
     "name": "stdin",
     "output_type": "stream",
     "text": [
      "Enter the age: 12\n"
     ]
    },
    {
     "name": "stdout",
     "output_type": "stream",
     "text": [
      "wait for 6 years\n"
     ]
    }
   ],
   "source": [
    "#if-else statement\n",
    "x = int(input(\"Enter the age:\"))\n",
    "if (x>=18):\n",
    "    print(x,\"is eligible for vote\")\n",
    "else:\n",
    "    year = 18-x\n",
    "    print(\"wait for\" + \" \" + str (year) + \" \" + \"years\")"
   ]
  },
  {
   "cell_type": "code",
   "execution_count": 9,
   "id": "5f65c977-bbe1-48b5-8281-58db6cb18540",
   "metadata": {},
   "outputs": [
    {
     "name": "stdin",
     "output_type": "stream",
     "text": [
      "Enter a number between 0 to 30: 5\n"
     ]
    },
    {
     "name": "stdout",
     "output_type": "stream",
     "text": [
      "5 is between 0 and 10\n"
     ]
    }
   ],
   "source": [
    "#if-elif-else statement\n",
    "x = int(input(\"Enter a number between 0 to 30:\"))\n",
    "if(x>=0 and x<=10):\n",
    "    print(x,\"is between 0 and 10\")\n",
    "elif(x>=10 and x<=20):\n",
    "    print(x,\"is between 10 and 20\")\n",
    "elif(x>=20 and x<=30):\n",
    "    print(x,\"is between 0 and 20\")\n",
    "else:\n",
    "    print(x,\"is out of range\")"
   ]
  },
  {
   "cell_type": "code",
   "execution_count": 13,
   "id": "a35eb2b2-45ea-4cdb-b775-d3265f2083e6",
   "metadata": {},
   "outputs": [
    {
     "name": "stdout",
     "output_type": "stream",
     "text": [
      "1 2 3 4 "
     ]
    }
   ],
   "source": [
    "#range function \n",
    "for i in range (1,5):\n",
    "    print(i,end=\" \")"
   ]
  },
  {
   "cell_type": "code",
   "execution_count": 15,
   "id": "2e3d69b4-f213-45e7-b567-639fccabb3b5",
   "metadata": {},
   "outputs": [
    {
     "name": "stdout",
     "output_type": "stream",
     "text": [
      "1 3 5 7 9 "
     ]
    }
   ],
   "source": [
    "#range ()\n",
    "for i in range (1,10,2):\n",
    "    print(i,end=\" \")"
   ]
  },
  {
   "cell_type": "code",
   "execution_count": 1,
   "id": "005e4d84-552f-4718-934e-e75a04bad580",
   "metadata": {},
   "outputs": [
    {
     "name": "stdout",
     "output_type": "stream",
     "text": [
      "1 2 3 4 5 \n",
      "Done\n"
     ]
    }
   ],
   "source": [
    "#break statement\n",
    "i = 1\n",
    "while(i<=10):\n",
    "    print(i,end=\" \")\n",
    "    if(i == 5):\n",
    "        break\n",
    "    i+=1\n",
    "print(\"\\nDone\")"
   ]
  },
  {
   "cell_type": "code",
   "execution_count": 3,
   "id": "8a586b5b-8699-49a8-9f96-20dd07f5f8f0",
   "metadata": {},
   "outputs": [
    {
     "name": "stdout",
     "output_type": "stream",
     "text": [
      "1 2 3 4 5 6 7 8 9 10 \n",
      "Done\n"
     ]
    }
   ],
   "source": [
    "#continue statement\n",
    "i = 1\n",
    "while(i <= 10):\n",
    "    print(i, end=\" \")\n",
    "    if(i == 5):\n",
    "       i += 1\n",
    "       continue\n",
    "    i += 1\n",
    "print(\"\\nDone\")"
   ]
  },
  {
   "cell_type": "code",
   "execution_count": 9,
   "id": "b9b0a894-2f3a-4360-ad2c-31d7a5f0fce5",
   "metadata": {},
   "outputs": [],
   "source": [
    "#pass statement\n",
    "a = 22\n",
    "b = 12\n",
    "if b > a:\n",
    "    pass"
   ]
  }
 ],
 "metadata": {
  "kernelspec": {
   "display_name": "Python 3 (ipykernel)",
   "language": "python",
   "name": "python3"
  },
  "language_info": {
   "codemirror_mode": {
    "name": "ipython",
    "version": 3
   },
   "file_extension": ".py",
   "mimetype": "text/x-python",
   "name": "python",
   "nbconvert_exporter": "python",
   "pygments_lexer": "ipython3",
   "version": "3.12.4"
  }
 },
 "nbformat": 4,
 "nbformat_minor": 5
}
