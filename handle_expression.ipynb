{
  "nbformat": 4,
  "nbformat_minor": 0,
  "metadata": {
    "colab": {
      "provenance": []
    },
    "kernelspec": {
      "name": "python3",
      "display_name": "Python 3"
    },
    "language_info": {
      "name": "python"
    }
  },
  "cells": [
    {
      "cell_type": "code",
      "execution_count": 3,
      "metadata": {
        "colab": {
          "base_uri": "https://localhost:8080/"
        },
        "id": "f8-iNIQEHJKx",
        "outputId": "6c73c9c2-c470-46a0-e683-0b1917ac8318"
      },
      "outputs": [
        {
          "output_type": "stream",
          "name": "stdout",
          "text": [
            "Test 1: Valid inputs\n",
            "Test 2: Division by zero\n",
            "Error: Division by zero is not allowed.\n",
            "Test 3: Invalid input types\n",
            "Error: Invalid input types. Please enter valid numbers.\n",
            "Test 4: Invalid input\n",
            "Error: Invalid input types. Please enter valid numbers.\n",
            "Test 5: Unexpected error\n",
            "Error: Invalid input types. Please enter valid numbers.\n"
          ]
        }
      ],
      "source": [
        "def divide_numbers(num1, num2):\n",
        "    try:\n",
        "        result = num1 / num2\n",
        "        return result\n",
        "        print(f\"The result is: {result}\")\n",
        "    except ZeroDivisionError:\n",
        "        print(\"Error: Division by zero is not allowed.\")\n",
        "    except TypeError:\n",
        "        print(\"Error: Invalid input types. Please enter valid numbers.\")\n",
        "    except ValueError:\n",
        "        print(\"Error: Invalid input. Please enter valid numbers.\")\n",
        "    except Exception as e:\n",
        "        print(f\"An unexpected error occurred: {e}\")\n",
        "print(\"Test 1: Valid inputs\")\n",
        "divide_numbers(10,2)\n",
        "print(\"Test 2: Division by zero\")\n",
        "divide_numbers(10,0)\n",
        "print(\"Test 3: Invalid input types\")\n",
        "divide_numbers(\"10\",2)\n",
        "print(\"Test 4: Invalid input\")\n",
        "divide_numbers(10,\"2\")\n",
        "print(\"Test 5: Unexpected error\")\n",
        "divide_numbers(10,None)"
      ]
    }
  ]
}