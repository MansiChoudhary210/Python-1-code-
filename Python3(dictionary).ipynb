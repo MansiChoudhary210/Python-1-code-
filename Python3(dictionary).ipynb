{
 "cells": [
  {
   "cell_type": "code",
   "execution_count": 1,
   "id": "66abc672-85fe-4ea6-8f3a-738f47146c50",
   "metadata": {},
   "outputs": [
    {
     "name": "stdout",
     "output_type": "stream",
     "text": [
      "{1: 'Apple', 2: 'Macbook'}\n"
     ]
    }
   ],
   "source": [
    "#dictionary\n",
    "#integer key\n",
    "my_dict1 = {1:'Apple',2:'Macbook'}\n",
    "print(my_dict1)"
   ]
  },
  {
   "cell_type": "code",
   "execution_count": 3,
   "id": "f91f697f-6413-49b2-9866-378c60319176",
   "metadata": {},
   "outputs": [
    {
     "name": "stdout",
     "output_type": "stream",
     "text": [
      "{1: 'Apple', 'Laptop': 'Macbook', 'Price': 71000}\n",
      "3\n"
     ]
    }
   ],
   "source": [
    "#mixed key\n",
    "my_dict1 = {1:'Apple','Laptop':'Macbook','Price':71000}\n",
    "print(my_dict1)\n",
    "print(len(my_dict1))"
   ]
  },
  {
   "cell_type": "code",
   "execution_count": 11,
   "id": "2b341189-98c7-4af2-8401-0fc28faa7cf3",
   "metadata": {},
   "outputs": [
    {
     "name": "stdout",
     "output_type": "stream",
     "text": [
      "Python\n",
      "Good language\n",
      "None\n"
     ]
    }
   ],
   "source": [
    "#accessing element from dictionary\n",
    "my_dict = {1:'Python',2:'Java',3:'C++','C':\"Good language\"}\n",
    "print(my_dict[1])\n",
    "print(my_dict.get('C'))\n",
    "print(my_dict.get(4))"
   ]
  },
  {
   "cell_type": "code",
   "execution_count": 15,
   "id": "51ba9557-f40f-48d8-8834-77616ec36c46",
   "metadata": {},
   "outputs": [
    {
     "name": "stdout",
     "output_type": "stream",
     "text": [
      "{'name': 'Arthur', 'age': 25}\n",
      "{'name': 'Arthur', 'age': 25, 'address': 'Downtown'}\n"
     ]
    }
   ],
   "source": [
    "#changing and adding dictionary element\n",
    "my_dict = {'name' : 'Arthur','age' : 24}\n",
    "my_dict['age'] = 25\n",
    "print(my_dict)\n",
    "my_dict['address'] = 'Downtown'\n",
    "print(my_dict)"
   ]
  },
  {
   "cell_type": "code",
   "execution_count": 19,
   "id": "de3b2270-b62f-42a3-97b0-655ea3539772",
   "metadata": {},
   "outputs": [
    {
     "name": "stdout",
     "output_type": "stream",
     "text": [
      "16\n",
      "(5, 25)\n",
      "None\n"
     ]
    }
   ],
   "source": [
    "#removing element from dictionary\n",
    "square = {1:1,2:4,3:9,4:16,5:25}\n",
    "print(square.pop(4))\n",
    "print(square.popitem())\n",
    "print(square.clear())"
   ]
  }
 ],
 "metadata": {
  "kernelspec": {
   "display_name": "Python 3 (ipykernel)",
   "language": "python",
   "name": "python3"
  },
  "language_info": {
   "codemirror_mode": {
    "name": "ipython",
    "version": 3
   },
   "file_extension": ".py",
   "mimetype": "text/x-python",
   "name": "python",
   "nbconvert_exporter": "python",
   "pygments_lexer": "ipython3",
   "version": "3.12.4"
  }
 },
 "nbformat": 4,
 "nbformat_minor": 5
}
