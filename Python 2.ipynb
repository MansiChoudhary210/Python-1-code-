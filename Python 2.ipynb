{
 "cells": [
  {
   "cell_type": "code",
   "execution_count": 7,
   "id": "918e973c-025d-4af2-935a-0521f4978c95",
   "metadata": {},
   "outputs": [
    {
     "name": "stdout",
     "output_type": "stream",
     "text": [
      "[1, 2, 3, 4]\n",
      "[1, 2, 100, 4]\n"
     ]
    }
   ],
   "source": [
    "#LIST\n",
    "#updating values in list\n",
    "num_list = [1,2,3,4]\n",
    "print(num_list)\n",
    "num_list[2] = 100\n",
    "print(num_list)"
   ]
  },
  {
   "cell_type": "code",
   "execution_count": 11,
   "id": "08889c59-aafc-4199-9b2a-92b08b94b5a8",
   "metadata": {},
   "outputs": [
    {
     "name": "stdout",
     "output_type": "stream",
     "text": [
      "[1, 2, 3, 4, 5]\n"
     ]
    }
   ],
   "source": [
    "#cloning list\n",
    "list1 = [1,2,3,4,5]\n",
    "list2 = list1\n",
    "print(list2)"
   ]
  },
  {
   "cell_type": "code",
   "execution_count": 13,
   "id": "67b76e6a-3360-4a92-8da1-0cc669f7e557",
   "metadata": {},
   "outputs": [
    {
     "name": "stdout",
     "output_type": "stream",
     "text": [
      "5\n"
     ]
    }
   ],
   "source": [
    "#length\n",
    "list1 = [1,2,3,4,5]\n",
    "print(len(list1))"
   ]
  },
  {
   "cell_type": "code",
   "execution_count": 15,
   "id": "8c6d7247-2a4c-411a-a0cb-68c089ee8594",
   "metadata": {},
   "outputs": [
    {
     "name": "stdout",
     "output_type": "stream",
     "text": [
      "[42, 21]\n"
     ]
    }
   ],
   "source": [
    "#append()\n",
    "list = []\n",
    "list.append(42)\n",
    "list.append(21)\n",
    "print(list)"
   ]
  },
  {
   "cell_type": "code",
   "execution_count": 25,
   "id": "617e4700-9650-4086-8486-993b1e58e101",
   "metadata": {},
   "outputs": [],
   "source": [
    "#clear()\n",
    "list = [1,2,3,4]\n",
    "list.clear()"
   ]
  },
  {
   "cell_type": "code",
   "execution_count": 27,
   "id": "27ec7198-09ff-4869-bdc9-bce8bc119db7",
   "metadata": {},
   "outputs": [
    {
     "data": {
      "text/plain": [
       "[1, 2, 3, 4]"
      ]
     },
     "execution_count": 27,
     "metadata": {},
     "output_type": "execute_result"
    }
   ],
   "source": [
    "#copy\n",
    "list = [1,2,3,4]\n",
    "list.copy()"
   ]
  },
  {
   "cell_type": "code",
   "execution_count": 29,
   "id": "6970f009-df2e-4532-b0e2-6e1366fc035d",
   "metadata": {},
   "outputs": [
    {
     "name": "stdout",
     "output_type": "stream",
     "text": [
      "0\n"
     ]
    }
   ],
   "source": [
    "#count\n",
    "list = [1,2,3,4]\n",
    "x1 = list.count(42)\n",
    "print(x1)"
   ]
  },
  {
   "cell_type": "code",
   "execution_count": 31,
   "id": "aeba7d79-9a12-4144-a32e-d14ae3f1c712",
   "metadata": {},
   "outputs": [
    {
     "name": "stdout",
     "output_type": "stream",
     "text": [
      "[1, 2, 3, 4, 5, 6, 7]\n"
     ]
    }
   ],
   "source": [
    "#extend\n",
    "list = [1,2,3,4]\n",
    "list.extend([5,6,7])\n",
    "print(list)"
   ]
  },
  {
   "cell_type": "code",
   "execution_count": 39,
   "id": "a141bdc1-d1b6-4edb-b91e-00d67da9a594",
   "metadata": {},
   "outputs": [
    {
     "name": "stdout",
     "output_type": "stream",
     "text": [
      "['Alice', 42, 'bob', 9]\n",
      "0\n"
     ]
    }
   ],
   "source": [
    "#index\n",
    "list = [\"Alice\",42,\"bob\",9]\n",
    "print(list)\n",
    "print(list.index(\"Alice\"))"
   ]
  },
  {
   "cell_type": "code",
   "execution_count": 71,
   "id": "fbe46222-9867-4f5c-9440-bee05ebad111",
   "metadata": {},
   "outputs": [
    {
     "name": "stdout",
     "output_type": "stream",
     "text": [
      "[1, 2, 99, 3, 4]\n"
     ]
    }
   ],
   "source": [
    "#insert\n",
    "list = [1,2,3,4]\n",
    "list.insert(2,99)\n",
    "print(list)"
   ]
  },
  {
   "cell_type": "code",
   "execution_count": 73,
   "id": "bcb30b8d-e79b-412b-9007-12ce32c8e1c1",
   "metadata": {},
   "outputs": [
    {
     "name": "stdout",
     "output_type": "stream",
     "text": [
      "[1, 2, 3]\n"
     ]
    }
   ],
   "source": [
    "#pop()\n",
    "list = [1,2,3,4]\n",
    "list.pop()\n",
    "print(list)"
   ]
  },
  {
   "cell_type": "code",
   "execution_count": 75,
   "id": "1e896055-5cbb-4921-b95b-2844fd8978c4",
   "metadata": {},
   "outputs": [
    {
     "name": "stdout",
     "output_type": "stream",
     "text": [
      "[1, 2, 4]\n"
     ]
    }
   ],
   "source": [
    "#remove\n",
    "list = [1,2,3,4]\n",
    "list.remove(3)\n",
    "print(list)"
   ]
  },
  {
   "cell_type": "code",
   "execution_count": 77,
   "id": "635e1a8f-9347-4f4b-8f63-44877b4844a1",
   "metadata": {},
   "outputs": [
    {
     "name": "stdout",
     "output_type": "stream",
     "text": [
      "[4, 3, 2, 1]\n"
     ]
    }
   ],
   "source": [
    "#reverse\n",
    "list = [1,2,3,4]\n",
    "list.reverse()\n",
    "print(list)"
   ]
  },
  {
   "cell_type": "code",
   "execution_count": 79,
   "id": "750fe396-a8d6-46ff-996f-8eca3e184806",
   "metadata": {},
   "outputs": [
    {
     "name": "stdout",
     "output_type": "stream",
     "text": [
      "[1, 2, 3, 4]\n"
     ]
    }
   ],
   "source": [
    "#sort()\n",
    "list = [3,4,1,2]\n",
    "list.sort()\n",
    "print(list)"
   ]
  }
 ],
 "metadata": {
  "kernelspec": {
   "display_name": "Python 3 (ipykernel)",
   "language": "python",
   "name": "python3"
  },
  "language_info": {
   "codemirror_mode": {
    "name": "ipython",
    "version": 3
   },
   "file_extension": ".py",
   "mimetype": "text/x-python",
   "name": "python",
   "nbconvert_exporter": "python",
   "pygments_lexer": "ipython3",
   "version": "3.12.4"
  }
 },
 "nbformat": 4,
 "nbformat_minor": 5
}
