{
 "cells": [
  {
   "cell_type": "code",
   "execution_count": 3,
   "id": "d071e663-48b9-451e-af3b-c745a2f35fb6",
   "metadata": {},
   "outputs": [
    {
     "name": "stdout",
     "output_type": "stream",
     "text": [
      "{'Mango', 'Cherry', 'Apple', 'Banana'}\n"
     ]
    }
   ],
   "source": [
    "#set\n",
    "#add\n",
    "Fruits = {\"Apple\",\"Banana\",\"Cherry\"}\n",
    "Fruits.add(\"Mango\")\n",
    "print(Fruits)"
   ]
  },
  {
   "cell_type": "code",
   "execution_count": 5,
   "id": "022ea2d2-c5c4-43e5-9570-1a1c08bc79e2",
   "metadata": {},
   "outputs": [
    {
     "name": "stdout",
     "output_type": "stream",
     "text": [
      "set()\n"
     ]
    }
   ],
   "source": [
    "#clear\n",
    "Fruits = {\"Apple\",\"Banana\",\"Cherry\"}\n",
    "Fruits.clear()\n",
    "print(Fruits)"
   ]
  },
  {
   "cell_type": "code",
   "execution_count": 7,
   "id": "4d566ed6-0ae7-409f-82b9-82f943ca3df5",
   "metadata": {},
   "outputs": [
    {
     "name": "stdout",
     "output_type": "stream",
     "text": [
      "{'Cherry', 'Apple', 'Banana'}\n"
     ]
    }
   ],
   "source": [
    "#copy\n",
    "Fruits = {\"Apple\",\"Banana\",\"Cherry\"}\n",
    "x = Fruits.copy()\n",
    "print(x)"
   ]
  },
  {
   "cell_type": "code",
   "execution_count": 11,
   "id": "e3a5c49e-5080-41c7-abc9-b39ac183ef86",
   "metadata": {},
   "outputs": [
    {
     "name": "stdout",
     "output_type": "stream",
     "text": [
      "{'Cherry', 'Banana'}\n"
     ]
    }
   ],
   "source": [
    "#differnce of two set\n",
    "x = {\"Apple\",\"Banana\",\"Cherry\"}\n",
    "y = {\"google\",\"microsoft\",\"Apple\"}\n",
    "z = x-y\n",
    "print(z)"
   ]
  },
  {
   "cell_type": "code",
   "execution_count": 15,
   "id": "ffb5274e-16c2-4f32-9b90-a6cf15fb723b",
   "metadata": {},
   "outputs": [
    {
     "name": "stdout",
     "output_type": "stream",
     "text": [
      "{'Cherry', 'Banana'}\n"
     ]
    }
   ],
   "source": [
    "#difference_update\n",
    "x = {\"Apple\",\"Banana\",\"Cherry\"}\n",
    "y = {\"google\",\"microsoft\",\"Apple\"}\n",
    "x.difference_update(y)\n",
    "print(x)"
   ]
  },
  {
   "cell_type": "code",
   "execution_count": 17,
   "id": "95fce2d1-2f84-493a-a784-2b6915b1a35a",
   "metadata": {},
   "outputs": [
    {
     "name": "stdout",
     "output_type": "stream",
     "text": [
      "{'Cherry', 'Banana'}\n"
     ]
    }
   ],
   "source": [
    "#discard\n",
    "x = {\"Apple\",\"Banana\",\"Cherry\"}\n",
    "x.discard(\"Apple\")\n",
    "print(x)"
   ]
  },
  {
   "cell_type": "code",
   "execution_count": 27,
   "id": "e8b95ed3-b41a-4eb5-a57e-54c6db4d1166",
   "metadata": {},
   "outputs": [
    {
     "name": "stdout",
     "output_type": "stream",
     "text": [
      "{3}\n"
     ]
    }
   ],
   "source": [
    "#intersection\n",
    "x = {1,2,3}\n",
    "y = {3,4,5}\n",
    "z = x.intersection(y)\n",
    "print(z)"
   ]
  },
  {
   "cell_type": "code",
   "execution_count": 29,
   "id": "a3d6c4a0-be91-4754-ac79-f98c6a56ceae",
   "metadata": {},
   "outputs": [
    {
     "name": "stdout",
     "output_type": "stream",
     "text": [
      "{3}\n"
     ]
    }
   ],
   "source": [
    "#intsection_update\n",
    "x = {1,2,3}\n",
    "y = {3,4,5}\n",
    "x.intersection_update(y)\n",
    "print(x)"
   ]
  },
  {
   "cell_type": "code",
   "execution_count": 31,
   "id": "31a9cf51-8560-4a8e-aef0-94e8f0ac8bb5",
   "metadata": {},
   "outputs": [
    {
     "name": "stdout",
     "output_type": "stream",
     "text": [
      "False\n"
     ]
    }
   ],
   "source": [
    "#isdisjoint\n",
    "x = {\"Apple\",\"Banana\",\"Cherry\"}\n",
    "y = {\"google\",\"microsoft\",\"Apple\"}\n",
    "z = x.isdisjoint(y)\n",
    "print(z)"
   ]
  },
  {
   "cell_type": "code",
   "execution_count": 33,
   "id": "e893abea-1926-4f7b-814e-995c62691d4b",
   "metadata": {},
   "outputs": [
    {
     "name": "stdout",
     "output_type": "stream",
     "text": [
      "True\n"
     ]
    }
   ],
   "source": [
    "#issubset\n",
    "x = {\"a\",\"b\",\"c\"}\n",
    "y = {\"d\",\"e\",\"f\",\"a\",\"b\",\"c\"}\n",
    "z = x.issubset(y)\n",
    "print(z)"
   ]
  },
  {
   "cell_type": "code",
   "execution_count": 35,
   "id": "f1ba416f-4ae6-44a7-b601-877efbee49d1",
   "metadata": {},
   "outputs": [
    {
     "name": "stdout",
     "output_type": "stream",
     "text": [
      "True\n"
     ]
    }
   ],
   "source": [
    "#issuperset\n",
    "x = {\"F\",\"E\",\"D\",\"C\",\"B\",\"A\"}\n",
    "y = {\"A\",\"B\",\"C\"}\n",
    "z = x.issuperset(y)\n",
    "print(z)"
   ]
  },
  {
   "cell_type": "code",
   "execution_count": 37,
   "id": "8a0fd0d5-389d-4550-b7bb-04eca23f21c9",
   "metadata": {},
   "outputs": [
    {
     "name": "stdout",
     "output_type": "stream",
     "text": [
      "{'Apple', 'Banana'}\n"
     ]
    }
   ],
   "source": [
    "#pop\n",
    "x = {\"Apple\",\"Banana\",\"Cherry\"}\n",
    "x.pop()\n",
    "print(x)"
   ]
  },
  {
   "cell_type": "code",
   "execution_count": 39,
   "id": "f285da3c-aac2-4e3f-9513-5ef5a246e65f",
   "metadata": {},
   "outputs": [
    {
     "name": "stdout",
     "output_type": "stream",
     "text": [
      "{'Cherry', 'Apple'}\n"
     ]
    }
   ],
   "source": [
    "#remove\n",
    "x = {\"Apple\",\"Banana\",\"Cherry\"}\n",
    "x.remove(\"Banana\")\n",
    "print(x)"
   ]
  },
  {
   "cell_type": "code",
   "execution_count": 41,
   "id": "4678cf63-2a08-41a2-8b55-15a922e9608f",
   "metadata": {},
   "outputs": [
    {
     "name": "stdout",
     "output_type": "stream",
     "text": [
      "{'Banana', 'microsoft', 'Cherry', 'google'}\n"
     ]
    }
   ],
   "source": [
    "#symmetric_difference\n",
    "x = {\"Apple\",\"Banana\",\"Cherry\"}\n",
    "y = {\"google\",\"microsoft\",\"Apple\"}\n",
    "z = x.symmetric_difference(y)\n",
    "print(z)"
   ]
  },
  {
   "cell_type": "code",
   "execution_count": 45,
   "id": "b58816a3-0e3a-4431-b3e5-9c99d15c95c5",
   "metadata": {},
   "outputs": [
    {
     "name": "stdout",
     "output_type": "stream",
     "text": [
      "{'Banana', 'microsoft', 'Cherry', 'google'}\n"
     ]
    }
   ],
   "source": [
    "#symmetric_difference_update\n",
    "x = {\"Apple\",\"Banana\",\"Cherry\"}\n",
    "y = {\"google\",\"microsoft\",\"Apple\"}\n",
    "x.symmetric_difference_update(y)\n",
    "print(x)"
   ]
  },
  {
   "cell_type": "code",
   "execution_count": 47,
   "id": "dac78157-986b-46e2-8a36-1a649336f491",
   "metadata": {},
   "outputs": [
    {
     "name": "stdout",
     "output_type": "stream",
     "text": [
      "{'Cherry', 'Apple', 'Banana', 'google', 'microsoft'}\n"
     ]
    }
   ],
   "source": [
    "#union\n",
    "x = {\"Apple\",\"Banana\",\"Cherry\"}\n",
    "y = {\"google\",\"microsoft\",\"Apple\"}\n",
    "z = x.union(y)\n",
    "print(z)"
   ]
  },
  {
   "cell_type": "code",
   "execution_count": 65,
   "id": "833ec0f6-d3f7-4636-b606-7adf0acb265a",
   "metadata": {},
   "outputs": [
    {
     "name": "stdout",
     "output_type": "stream",
     "text": [
      "{'Cherry', 'Apple', 'Banana', 'google', 'microsoft'}\n"
     ]
    }
   ],
   "source": [
    "#union_update\n",
    "x = {\"Apple\",\"Banana\",\"Cherry\"}\n",
    "y = {\"google\",\"microsoft\",\"Apple\"}\n",
    "x|=(y)\n",
    "print(x)"
   ]
  }
 ],
 "metadata": {
  "kernelspec": {
   "display_name": "Python 3 (ipykernel)",
   "language": "python",
   "name": "python3"
  },
  "language_info": {
   "codemirror_mode": {
    "name": "ipython",
    "version": 3
   },
   "file_extension": ".py",
   "mimetype": "text/x-python",
   "name": "python",
   "nbconvert_exporter": "python",
   "pygments_lexer": "ipython3",
   "version": "3.12.4"
  }
 },
 "nbformat": 4,
 "nbformat_minor": 5
}
